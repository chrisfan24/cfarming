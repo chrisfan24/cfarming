{
 "cells": [
  {
   "cell_type": "markdown",
   "metadata": {},
   "source": [
    "DAYCENT: \n",
    "- simulates fluxes of C and N among atmosphere/vegetation/soil\n",
    "- Flows of C controlled by size of SOM pools, C/N ratio, lignin content, water/temperature factors\n",
    "- inputs: daily max/min air temp / precip, surface soil texture, land cover/use data\n",
    "- outputs: N-gas flux, CO2 flux, Soil Organic C/N, NPP, H2O/NO3 leaching\n",
    "- Google Scholar searches yield tests on corn yields, NO2 emissions, N2O fluxes\n"
   ]
  },
  {
   "cell_type": "markdown",
   "metadata": {},
   "source": [
    "Del Grosso et. al, 2012: tests model's ability to simulate **crop yields, soil carbon changes, N2O emissions, NO3 leaching**\n",
    "\n",
    "- \"we advocate using more complex models when possible to estimate C and nutrient flows because they are likely to yield more reliable results and because they more realistically represent how land management practices interact with each other and environmental factors to control these fluxes. In particular, DayCent accounts for the interactions and feedbacks between management practices such as tillage intensity, irrigation, and fertilizer additions, as well as environmental factors such as soil type and weather.\"\n",
    "\n",
    "\n",
    "- \"Soil C levels are a function of C inputs from plant litter and organic matter amendments and C losses from decomposition of litter and organic matter. High quality litter and organic matter decompose more quickly and contribute less than low quality litter and organic matter to the stable soil C pools. Litter quality is a function of N concentration and the lignin/N ratio of material. Carbon losses from decomposition are a function of soil texture and cultivation. As soils become coarser textured, a higher portion of C in material is assumed to be lost as CO2 during each stage of the decomposition process. Cultivation events affect decomposition by incorporating surface biomass and litter into the soil and by enhancing decomposition rates. **Operationally, users define the portions of aboveground litter and biomass that will be mixed into the soil, the extent to which disturbance events enhance decomposition rates of the SOM pools, and the time period during which decomposition will be enhanced.**\"\n",
    "  - covariance between C inputs / C losses?\n",
    "  - is there a way to validate the strength of user inputs? For example, \"disturbance events\" is incredibly vague, noisy, and unpredictable. How can \"the time period during which decomposition will be enhanced\" be measured?\n",
    "\n",
    "- \"Of course, many other factors in addition to soil texture, water content, and SOM influence N2O emissions. Consequently, correlations with any single controlling variable tend to be poor.\"\n",
    "\n",
    "- \"Errors in model output derive from uncertainty in model drivers and imperfections in model algorithms and parameterizations (Del Grosso et al., 2010). Errors associated with uncertainty in model drivers can be assessed by performing a series of Monte Carlo simulations in which model drivers are acquired by drawing from probability distribution functions for each model driver. Errors resulting from imperfections in model algorithms and parameters can be quantified by comparing model outputs with observed values from field experiments... **Recent analysis showed the majority of error in DayCent model outputs is due to imperfections in model algorithms and parameters, as opposed to uncertainty in model drivers**\"\n",
    "\n"
   ]
  },
  {
   "cell_type": "markdown",
   "metadata": {},
   "source": [
    "Chang, et al (2013): Using DayCENT to Simulate Carbon Dynamics in Conventional and No-Till Agriculture\n",
    "\n",
    "- Measures of SOC at rotational crop field in Elora, Souther Ontario, Canada\n",
    "- Four 150 m * 100 m plots, two treatments\n",
    "- **Submodel of SOC decomposition and plant growth**\n",
    "- various individually-decided parameters such as cultivation parameters based on turnover time of carbon pools\n",
    "\n",
    "Model validation: \n",
    "  - 5000 year equilibrium simulation to be consistent with literature and historical events, using DayCENT\n",
    "  - evaluated with linear regression and R-squared, root mean squared error, slope, intercept, compared to 2000-2007 datapoints. \n",
    "  - R^2 = 0/71 for soil water content, 0.98 for soil temperature (monitored in the field experiment with water content reflectometers - CS615, Campbell Scientific, and thermistors - 107, Campbell Scientific\n",
    "  - CO2, H2O fluxes measured with 3d sonic anemometer (CSAT3 Campbell Scientific), 22% of carbon flux measurements were gap-filled with the 14 day average for that time\n",
    "  - \n",
    "  - \"The soil depth (0–20 cm) represented in the DayCENT model and in the different depth of soil sampling might cause the uncertainty in SOC validation and comparison.\""
   ]
  },
  {
   "cell_type": "markdown",
   "metadata": {},
   "source": [
    "Chang's study does model validation by comparing simulation results to a field study, but the soil organic carbon content itself is not measured, its only simulated. Only the parameters are validated, including carbon temperature, soil temperature, nitrogen temperature, and soil water content. Any analysis on soil organic carbon dynamics is based on simulation."
   ]
  },
  {
   "attachments": {},
   "cell_type": "markdown",
   "metadata": {},
   "source": [
    "**Del Grosso, 2008: crop yields, N2O emissions, NO3 leaching -> r^2 = 0.72, 0.68, 0.61, respectively**\n",
    "\n",
    "https://gsa.confex.com/gsa/2008AM/finalprogram/abstract_141064.htm"
   ]
  },
  {
   "cell_type": "markdown",
   "metadata": {},
   "source": [
    "**Summary:**\n",
    "\n",
    "As far as I've searched I haven't been able to find a study that tests soil organic carbon levels from DAYcent simulations with field study results. Rather, parameters, which are computed with submodels, such as temperature and water content are tested against simulations, and these parameters are inputted into the model. R^2 values for these parameters seem to lie around 0.7, which, when used as a parameter for carbon farming dynamics, would theoretically lead to lower R^2 values. However, Del Grosso states that most of the error from the model comes from model algorithm imperfections rather than model drivers. Users also tone the parameters based on their own judgment, so this leads to higher variation.  \n",
    "\n"
   ]
  },
  {
   "cell_type": "code",
   "execution_count": null,
   "metadata": {},
   "outputs": [],
   "source": []
  }
 ],
 "metadata": {
  "kernelspec": {
   "display_name": "Python 3",
   "language": "python",
   "name": "python3"
  },
  "language_info": {
   "codemirror_mode": {
    "name": "ipython",
    "version": 3
   },
   "file_extension": ".py",
   "mimetype": "text/x-python",
   "name": "python",
   "nbconvert_exporter": "python",
   "pygments_lexer": "ipython3",
   "version": "3.6.5"
  }
 },
 "nbformat": 4,
 "nbformat_minor": 2
}
